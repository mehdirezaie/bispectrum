{
 "cells": [
  {
   "cell_type": "code",
   "execution_count": 1,
   "id": "4d86ac2c-cbff-4817-828a-6282706f7969",
   "metadata": {},
   "outputs": [],
   "source": [
    "%matplotlib inline\n",
    "import matplotlib.pyplot as plt \n",
    "import numpy as np\n",
    "from run_mcmc import *"
   ]
  },
  {
   "cell_type": "code",
   "execution_count": 4,
   "id": "036c6cda-bda6-46fb-ba6f-0e57a5c01722",
   "metadata": {},
   "outputs": [],
   "source": [
    "%matplotlib inline"
   ]
  },
  {
   "cell_type": "code",
   "execution_count": 2,
   "id": "e4d1a100-068f-4f54-a154-0f3e9486fe50",
   "metadata": {},
   "outputs": [],
   "source": [
    "# read \n",
    "pk_mol = read_molino_pk()\n",
    "pk_glm = read_glam_pk()\n",
    "pk_glm_nobao = read_glam_pk_nobao()\n",
    "\n",
    "bk_mol = read_molino_bk()\n",
    "bk_glm = read_glam_bk()\n",
    "bk_glm_nobao = read_glam_bk_nobao()"
   ]
  },
  {
   "cell_type": "markdown",
   "id": "88b136eb-5755-4a22-8189-f59e18487bbc",
   "metadata": {},
   "source": [
    "## MCMC"
   ]
  },
  {
   "cell_type": "markdown",
   "id": "c3e977e2-230f-4ed6-826c-ecb043fb2ad2",
   "metadata": {},
   "source": [
    "For this part, do `python run_mcmc.py`"
   ]
  },
  {
   "cell_type": "code",
   "execution_count": 13,
   "id": "a7cd1f8a-31a6-4882-b02b-1dd2f4f97704",
   "metadata": {},
   "outputs": [
    {
     "data": {
      "text/plain": [
       "(26, 2)"
      ]
     },
     "execution_count": 13,
     "metadata": {},
     "output_type": "execute_result"
    }
   ],
   "source": [
    "data = np.loadtxt('sigmas_mcmc_isbk_False.txt')\n",
    "data.shape"
   ]
  },
  {
   "cell_type": "code",
   "execution_count": 14,
   "id": "0fe4952d-a914-4e58-b311-cbae852450ab",
   "metadata": {},
   "outputs": [
    {
     "data": {
      "text/plain": [
       "array([[0.05      , 0.13441421],\n",
       "       [0.06      , 0.12832904],\n",
       "       [0.07      , 0.12308665],\n",
       "       [0.08      , 0.10595109],\n",
       "       [0.09      , 0.08797358],\n",
       "       [0.1       , 0.06803653],\n",
       "       [0.11      , 0.05385949],\n",
       "       [0.12      , 0.04184035],\n",
       "       [0.13      , 0.03683019],\n",
       "       [0.14      , 0.0327538 ],\n",
       "       [0.15      , 0.027653  ],\n",
       "       [0.16      , 0.02574306],\n",
       "       [0.17      , 0.02451377],\n",
       "       [0.18      , 0.02303401],\n",
       "       [0.19      , 0.02237078],\n",
       "       [0.2       , 0.02176475],\n",
       "       [0.21      , 0.02111911],\n",
       "       [0.22      , 0.02033171],\n",
       "       [0.23      , 0.02049979],\n",
       "       [0.24      , 0.02039472],\n",
       "       [0.25      , 0.0201697 ],\n",
       "       [0.26      , 0.02004028],\n",
       "       [0.27      , 0.01970418],\n",
       "       [0.28      , 0.084115  ],\n",
       "       [0.29      , 0.09037396],\n",
       "       [0.3       , 0.09780598]])"
      ]
     },
     "execution_count": 14,
     "metadata": {},
     "output_type": "execute_result"
    }
   ],
   "source": [
    "data"
   ]
  },
  {
   "cell_type": "code",
   "execution_count": 22,
   "id": "bd0ad6a0-391d-4d26-a613-f2dcfbe89be7",
   "metadata": {},
   "outputs": [
    {
     "data": {
      "text/plain": [
       "<matplotlib.legend.Legend at 0x7f9cbf5f4c40>"
      ]
     },
     "execution_count": 22,
     "metadata": {},
     "output_type": "execute_result"
    },
    {
     "data": {
      "image/png": "[encoded data removed]",
      "text/plain": [
       "<Figure size 432x288 with 1 Axes>"
      ]
     },
     "metadata": {
      "needs_background": "light"
     },
     "output_type": "display_data"
    }
   ],
   "source": [
    "plt.plot(data[:, 0], data[:, 1], 'C0o-', mfc='w', label='Power Spectrum')\n",
    "# plt.plot(data[:, 0], data[:, 2], 'C0--')\n",
    "# plt.plot(data[:, 0], data[:, 3], 'C1-')\n",
    "# plt.plot(data[:, 0], data[:, 4], 'C1--')\n",
    "# plt.yscale('log')\n",
    "plt.xlabel(r'$k_{\\rm max}$')\n",
    "plt.ylabel(r'$\\sigma (\\alpha)$')\n",
    "plt.legend()"
   ]
  },
  {
   "cell_type": "markdown",
   "id": "058fd4ad-c02e-48ad-9074-e3b4d76e0945",
   "metadata": {},
   "source": [
    "## 1D search"
   ]
  },
  {
   "cell_type": "code",
   "execution_count": 3,
   "id": "d272b107-131d-4bd0-8737-7abb99352ad2",
   "metadata": {},
   "outputs": [
    {
     "name": "stdout",
     "output_type": "stream",
     "text": [
      "(1097, 30)\n",
      "(1097, 30)\n",
      "(1097, 2600)\n",
      "(1097, 2600)\n"
     ]
    }
   ],
   "source": [
    "kmin = 0.0345\n",
    "kmax = np.arange(0.05, 0.31, 0.05)\n",
    "\n",
    "# power spectra\n",
    "bao_pk = BAO(pk_glm['k'], pk_glm['pk']/pk_glm_nobao['pk'].mean(axis=0))\n",
    "bao_pk_red = BAO(pk_glm['k'], pk_glm['pk']/pk_glm_nobao['pk'].mean(axis=0))\n",
    "# bispectra\n",
    "bao_bk = BAO(bk_glm['k'], bk_glm['pk']/bk_glm_nobao['pk'].mean(axis=0), is_bk=True)\n",
    "bao_bk_red = BAO(bk_glm['k'], bk_glm['pk']/bk_glm_nobao['pk'].mean(axis=0), is_bk=True)\n",
    "\n",
    "\n",
    "\n",
    "sigmas = []\n",
    "sigmas3 = []\n",
    "sigmas2 = []\n",
    "sigmas4 = []\n",
    "\n",
    "for kmax_ in kmax:\n",
    "    sigmas.append(sigma_finder(bao_pk, kmin, kmax_))\n",
    "    sigmas3.append(sigma_finder(bao_pk_red, kmin, kmax_, pk_mol=pk_mol))\n",
    "    sigmas2.append(sigma_finder(bao_bk, kmin, kmax_))\n",
    "    sigmas4.append(sigma_finder(bao_bk_red, kmin, kmax_, pk_mol=bk_mol))\n",
    "\n",
    "    \n",
    "sigmas = np.array(sigmas)\n",
    "sigmas3 = np.array(sigmas3)\n",
    "sigmas2 = np.array(sigmas2)\n",
    "sigmas4 = np.array(sigmas4)"
   ]
  },
  {
   "cell_type": "code",
   "execution_count": 8,
   "id": "67921bf0-c261-401a-a139-b939bac73ff7",
   "metadata": {},
   "outputs": [
    {
     "name": "stdout",
     "output_type": "stream",
     "text": [
      "(1097, 2600)\n"
     ]
    }
   ],
   "source": [
    "bao_bk_red = BAO(bk_glm['k'], bk_glm['pk']/bk_glm_nobao['pk'].mean(axis=0), is_bk=True)"
   ]
  },
  {
   "cell_type": "code",
   "execution_count": 15,
   "id": "489ed0d9-3354-4b29-b432-af8ce50320f1",
   "metadata": {},
   "outputs": [],
   "source": [
    "bao_bk_red.prep_k(0.0345, 0.25)\n",
    "bao_bk_red.prep_cov(pk_mol=bk_mol)"
   ]
  },
  {
   "cell_type": "code",
   "execution_count": 16,
   "id": "689c4c46-e785-4b56-8344-4eec87ada5a8",
   "metadata": {},
   "outputs": [],
   "source": [
    "x = np.linspace(0.8, 1.2)\n",
    "y = []\n",
    "for x_ in x:\n",
    "    y.append(bao_bk_red(x_))"
   ]
  },
  {
   "cell_type": "code",
   "execution_count": 17,
   "id": "b854dc71-66ab-45c4-8d16-48d635df83a2",
   "metadata": {},
   "outputs": [
    {
     "data": {
      "text/plain": [
       "[nan,\n",
       " nan,\n",
       " nan,\n",
       " nan,\n",
       " nan,\n",
       " nan,\n",
       " nan,\n",
       " nan,\n",
       " nan,\n",
       " nan,\n",
       " nan,\n",
       " nan,\n",
       " nan,\n",
       " nan,\n",
       " nan,\n",
       " nan,\n",
       " nan,\n",
       " nan,\n",
       " nan,\n",
       " nan,\n",
       " nan,\n",
       " nan,\n",
       " nan,\n",
       " nan,\n",
       " nan,\n",
       " 0.9008106046595806,\n",
       " 0.1072954419362534,\n",
       " 1.4608538353995097,\n",
       " 3.645758118167116,\n",
       " 6.404897215111109,\n",
       " 9.737259449584531,\n",
       " 13.240403370941543,\n",
       " 16.612430972626775,\n",
       " 20.282624727035582,\n",
       " 23.764051342814092,\n",
       " 27.580606957578745,\n",
       " 31.23874017074631,\n",
       " 34.93428308282339,\n",
       " 38.57985103774817,\n",
       " 42.02397719196573,\n",
       " 44.82508929772856,\n",
       " 47.837077433290986,\n",
       " 50.51095136867315,\n",
       " 52.75281291907097,\n",
       " 54.480082436072024,\n",
       " nan,\n",
       " nan,\n",
       " nan,\n",
       " nan,\n",
       " nan]"
      ]
     },
     "execution_count": 17,
     "metadata": {},
     "output_type": "execute_result"
    }
   ],
   "source": [
    "y"
   ]
  },
  {
   "cell_type": "code",
   "execution_count": 18,
   "id": "9afa157b-340e-4dc3-bbcf-24cdfd7fc610",
   "metadata": {},
   "outputs": [
    {
     "data": {
      "text/plain": [
       "[<matplotlib.lines.Line2D at 0x7fb6a364a520>]"
      ]
     },
     "execution_count": 18,
     "metadata": {},
     "output_type": "execute_result"
    },
    {
     "data": {
      "image/png": "[encoded data removed]",
      "text/plain": [
       "<Figure size 432x288 with 1 Axes>"
      ]
     },
     "metadata": {
      "needs_background": "light"
     },
     "output_type": "display_data"
    }
   ],
   "source": [
    "plt.plot(x, y)"
   ]
  },
  {
   "cell_type": "code",
   "execution_count": 5,
   "id": "e3dfbccc-5d9f-4a27-b8e2-27acf6d2cd1e",
   "metadata": {},
   "outputs": [],
   "source": [
    "%matplotlib inline"
   ]
  },
  {
   "cell_type": "code",
   "execution_count": 6,
   "id": "c5762ece-964a-4cc2-af5a-1e7434662d41",
   "metadata": {},
   "outputs": [
    {
     "data": {
      "text/plain": [
       "<matplotlib.colorbar.Colorbar at 0x7fb6a3957610>"
      ]
     },
     "execution_count": 6,
     "metadata": {},
     "output_type": "execute_result"
    },
    {
     "data": {
      "image/png": "[encoded data removed]",
      "text/plain": [
       "<Figure size 576x288 with 3 Axes>"
      ]
     },
     "metadata": {
      "needs_background": "light"
     },
     "output_type": "display_data"
    }
   ],
   "source": [
    "fg, ax = plt.subplots(ncols=2, figsize=(8, 4), sharey=True)\n",
    "\n",
    "ax[0].imshow(bao_pk.cov, vmin=0., vmax=2.0e-3, origin='lower')\n",
    "map_ = ax[1].imshow(bao_pk_red.cov, vmin=0., vmax=2.0e-3, origin='lower')\n",
    "\n",
    "cax_ = fg.add_axes([0.95, 0.15, 0.02, 0.7])\n",
    "fg.colorbar(map_, cax=cax_)"
   ]
  },
  {
   "cell_type": "code",
   "execution_count": 7,
   "id": "3d0346dc-13df-4e06-855b-ab0b9dcdeaf3",
   "metadata": {},
   "outputs": [
    {
     "data": {
      "text/plain": [
       "Text(0, 0.5, '$\\\\sigma (\\\\alpha)$')"
      ]
     },
     "execution_count": 7,
     "metadata": {},
     "output_type": "execute_result"
    },
    {
     "data": {
      "image/png": "[encoded data removed]",
      "text/plain": [
       "<Figure size 432x288 with 1 Axes>"
      ]
     },
     "metadata": {
      "needs_background": "light"
     },
     "output_type": "display_data"
    }
   ],
   "source": [
    "plt.semilogy(kmax, sigmas, 'C0o--', mfc='w', lw=1, alpha=0.2)\n",
    "plt.semilogy(kmax, sigmas3, 'C0.-', mfc='w', label='P(k) w red cov Molino')\n",
    "\n",
    "plt.semilogy(kmax, sigmas2, 'C1s--', mfc='w', lw=1, alpha=0.2)\n",
    "plt.semilogy(kmax, sigmas4, 'C1.-', mfc='w', label='B(k) w red cov Molino')\n",
    "\n",
    "plt.legend()\n",
    "plt.ylim(1.0e-3, 1.0e0)\n",
    "plt.xlabel(r'$k_{\\rm max}$')\n",
    "plt.ylabel(r'$\\sigma (\\alpha)$')"
   ]
  }
 ],
 "metadata": {
  "kernelspec": {
   "display_name": "python (3.8)",
   "language": "python",
   "name": "py3p8"
  },
  "language_info": {
   "codemirror_mode": {
    "name": "ipython",
    "version": 3
   },
   "file_extension": ".py",
   "mimetype": "text/x-python",
   "name": "python",
   "nbconvert_exporter": "python",
   "pygments_lexer": "ipython3",
   "version": "3.8.12"
  }
 },
 "nbformat": 4,
 "nbformat_minor": 5
}
